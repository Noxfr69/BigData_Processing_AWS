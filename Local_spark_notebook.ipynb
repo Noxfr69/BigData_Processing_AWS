{
 "cells": [
  {
   "cell_type": "code",
   "execution_count": 33,
   "metadata": {},
   "outputs": [],
   "source": [
    "import pandas as pd\n",
    "from PIL import Image\n",
    "import numpy as np\n",
    "import io\n",
    "import os\n",
    "\n",
    "import tensorflow as tf\n",
    "from tensorflow.keras.applications.mobilenet_v2 import MobileNetV2, preprocess_input\n",
    "from tensorflow.keras.preprocessing.image import img_to_array\n",
    "from tensorflow.keras import Model\n",
    "from pyspark.sql.functions import col, pandas_udf, PandasUDFType, element_at, split\n",
    "from pyspark.sql import SparkSession\n",
    "from pyspark.ml.feature import PCA\n",
    "from pyspark.ml.linalg import Vectors, VectorUDT"
   ]
  },
  {
   "cell_type": "code",
   "execution_count": 34,
   "metadata": {},
   "outputs": [
    {
     "name": "stdout",
     "output_type": "stream",
     "text": [
      "PATH:        /home/nox/OpenClassroom/P9\n",
      "PATH_Data:   /home/nox/OpenClassroom/P9/Test1\n",
      "PATH_Result: /home/nox/OpenClassroom/P9/Results_test\n"
     ]
    }
   ],
   "source": [
    "PATH = os.getcwd()\n",
    "PATH_Data = PATH+'/Test1'\n",
    "PATH_Result = PATH+'/Results_test'\n",
    "PATH_Result_PCA = PATH+'/Results_pca_test'\n",
    "print('PATH:        '+\\\n",
    "      PATH+'\\nPATH_Data:   '+\\\n",
    "      PATH_Data+'\\nPATH_Result: '+PATH_Result)"
   ]
  },
  {
   "cell_type": "code",
   "execution_count": 35,
   "metadata": {},
   "outputs": [],
   "source": [
    "spark = (SparkSession\n",
    "             .builder\n",
    "             .appName('P8')\n",
    "             .master('local')\n",
    "             .config(\"spark.sql.parquet.writeLegacyFormat\", 'true')\n",
    "             .getOrCreate()\n",
    ")"
   ]
  },
  {
   "cell_type": "code",
   "execution_count": 36,
   "metadata": {},
   "outputs": [],
   "source": [
    "sc = spark.sparkContext"
   ]
  },
  {
   "cell_type": "code",
   "execution_count": 37,
   "metadata": {},
   "outputs": [
    {
     "data": {
      "text/html": [
       "\n",
       "            <div>\n",
       "                <p><b>SparkSession - in-memory</b></p>\n",
       "                \n",
       "        <div>\n",
       "            <p><b>SparkContext</b></p>\n",
       "\n",
       "            <p><a href=\"http://172.29.95.184:4040\">Spark UI</a></p>\n",
       "\n",
       "            <dl>\n",
       "              <dt>Version</dt>\n",
       "                <dd><code>v3.4.1</code></dd>\n",
       "              <dt>Master</dt>\n",
       "                <dd><code>local</code></dd>\n",
       "              <dt>AppName</dt>\n",
       "                <dd><code>P8</code></dd>\n",
       "            </dl>\n",
       "        </div>\n",
       "        \n",
       "            </div>\n",
       "        "
      ],
      "text/plain": [
       "<pyspark.sql.session.SparkSession at 0x7fa22fa80550>"
      ]
     },
     "execution_count": 37,
     "metadata": {},
     "output_type": "execute_result"
    }
   ],
   "source": [
    "spark"
   ]
  },
  {
   "cell_type": "code",
   "execution_count": 38,
   "metadata": {},
   "outputs": [],
   "source": [
    "images = spark.read.format(\"binaryFile\") \\\n",
    "  .option(\"pathGlobFilter\", \"*.jpg\") \\\n",
    "  .option(\"recursiveFileLookup\", \"true\") \\\n",
    "  .load(PATH_Data)"
   ]
  },
  {
   "cell_type": "code",
   "execution_count": 39,
   "metadata": {},
   "outputs": [
    {
     "data": {
      "text/plain": [
       "DataFrame[path: string, modificationTime: timestamp, length: bigint, content: binary]"
      ]
     },
     "execution_count": 39,
     "metadata": {},
     "output_type": "execute_result"
    }
   ],
   "source": [
    "images"
   ]
  },
  {
   "cell_type": "code",
   "execution_count": 40,
   "metadata": {},
   "outputs": [
    {
     "name": "stdout",
     "output_type": "stream",
     "text": [
      "root\n",
      " |-- path: string (nullable = true)\n",
      " |-- modificationTime: timestamp (nullable = true)\n",
      " |-- length: long (nullable = true)\n",
      " |-- content: binary (nullable = true)\n",
      " |-- label: string (nullable = true)\n",
      "\n",
      "None\n",
      "+------------------------------------------------------------------+--------------+\n",
      "|path                                                              |label         |\n",
      "+------------------------------------------------------------------+--------------+\n",
      "|file:/home/nox/OpenClassroom/P9/Test1/Apple Braeburn/r_4_100.jpg  |Apple Braeburn|\n",
      "|file:/home/nox/OpenClassroom/P9/Test1/Apple Braeburn/r_326_100.jpg|Apple Braeburn|\n",
      "|file:/home/nox/OpenClassroom/P9/Test1/Apple Braeburn/r_8_100.jpg  |Apple Braeburn|\n",
      "|file:/home/nox/OpenClassroom/P9/Test1/Apple Braeburn/r_324_100.jpg|Apple Braeburn|\n",
      "|file:/home/nox/OpenClassroom/P9/Test1/Apple Braeburn/r_327_100.jpg|Apple Braeburn|\n",
      "+------------------------------------------------------------------+--------------+\n",
      "only showing top 5 rows\n",
      "\n",
      "None\n"
     ]
    }
   ],
   "source": [
    "images = images.withColumn('label', element_at(split(images['path'], '/'),-2))\n",
    "print(images.printSchema())\n",
    "print(images.select('path','label').show(5,False))"
   ]
  },
  {
   "cell_type": "code",
   "execution_count": 41,
   "metadata": {},
   "outputs": [],
   "source": [
    "model = MobileNetV2(weights='imagenet',\n",
    "                    include_top=True,\n",
    "                    input_shape=(224, 224, 3))"
   ]
  },
  {
   "cell_type": "code",
   "execution_count": 42,
   "metadata": {},
   "outputs": [],
   "source": [
    "new_model = Model(inputs=model.input,\n",
    "                  outputs=model.layers[-2].output)"
   ]
  },
  {
   "cell_type": "code",
   "execution_count": 43,
   "metadata": {},
   "outputs": [],
   "source": [
    "brodcast_weights = sc.broadcast(new_model.get_weights())"
   ]
  },
  {
   "cell_type": "code",
   "execution_count": 44,
   "metadata": {},
   "outputs": [],
   "source": [
    "def model_fn():\n",
    "    \"\"\"\n",
    "    Returns a MobileNetV2 model with top layer removed \n",
    "    and broadcasted pretrained weights.\n",
    "    \"\"\"\n",
    "    model = MobileNetV2(weights='imagenet',\n",
    "                        include_top=True,\n",
    "                        input_shape=(224, 224, 3))\n",
    "    for layer in model.layers:\n",
    "        layer.trainable = False\n",
    "    new_model = Model(inputs=model.input,\n",
    "                  outputs=model.layers[-2].output)\n",
    "    new_model.set_weights(brodcast_weights.value)\n",
    "    return new_model"
   ]
  },
  {
   "cell_type": "code",
   "execution_count": 45,
   "metadata": {},
   "outputs": [
    {
     "name": "stderr",
     "output_type": "stream",
     "text": [
      "/home/nox/miniconda3/envs/P9/lib/python3.10/site-packages/pyspark/sql/pandas/functions.py:399: UserWarning: In Python 3.6+ and Spark 3.0+, it is preferred to specify type hints for pandas UDF instead of specifying pandas UDF type which will be deprecated in the future releases. See SPARK-28264 for more details.\n",
      "  warnings.warn(\n"
     ]
    }
   ],
   "source": [
    "def preprocess(content):\n",
    "    \"\"\"\n",
    "    Preprocesses raw image bytes for prediction.\n",
    "    \"\"\"\n",
    "    img = Image.open(io.BytesIO(content)).resize([224, 224])\n",
    "    arr = img_to_array(img)\n",
    "    return preprocess_input(arr)\n",
    "\n",
    "def featurize_series(model, content_series):\n",
    "    \"\"\"\n",
    "    Featurize a pd.Series of raw images using the input model.\n",
    "    :return: a pd.Series of image features\n",
    "    \"\"\"\n",
    "    input = np.stack(content_series.map(preprocess))\n",
    "    preds = model.predict(input)\n",
    "    # For some layers, output features will be multi-dimensional tensors.\n",
    "    # We flatten the feature tensors to vectors for easier storage in Spark DataFrames.\n",
    "    output = [p.flatten() for p in preds]\n",
    "    return pd.Series(output)\n",
    "\n",
    "@pandas_udf('array<float>', PandasUDFType.SCALAR_ITER)\n",
    "def featurize_udf(content_series_iter):\n",
    "    '''\n",
    "    This method is a Scalar Iterator pandas UDF wrapping our featurization function.\n",
    "    The decorator specifies that this returns a Spark DataFrame column of type ArrayType(FloatType).\n",
    "\n",
    "    :param content_series_iter: This argument is an iterator over batches of data, where each batch\n",
    "                              is a pandas Series of image data.\n",
    "    '''\n",
    "    # With Scalar Iterator pandas UDFs, we can load the model once and then re-use it\n",
    "    # for multiple data batches.  This amortizes the overhead of loading big models.\n",
    "    model = model_fn()\n",
    "    for content_series in content_series_iter:\n",
    "        yield featurize_series(model, content_series)"
   ]
  },
  {
   "cell_type": "code",
   "execution_count": 46,
   "metadata": {},
   "outputs": [],
   "source": [
    "# spark.conf.set(\"spark.sql.execution.arrow.maxRecordsPerBatch\", \"1024\")"
   ]
  },
  {
   "cell_type": "code",
   "execution_count": 47,
   "metadata": {},
   "outputs": [],
   "source": [
    "features_df = images.repartition(20).select(col(\"path\"),\n",
    "                                            col(\"label\"),\n",
    "                                            featurize_udf(\"content\").alias(\"features\")\n",
    "                                           )"
   ]
  },
  {
   "cell_type": "code",
   "execution_count": 48,
   "metadata": {},
   "outputs": [
    {
     "name": "stderr",
     "output_type": "stream",
     "text": [
      "2023-09-04 13:23:18.634417: I tensorflow/core/util/port.cc:110] oneDNN custom operations are on. You may see slightly different numerical results due to floating-point round-off errors from different computation orders. To turn them off, set the environment variable `TF_ENABLE_ONEDNN_OPTS=0`.\n",
      "2023-09-04 13:23:18.635728: I tensorflow/tsl/cuda/cudart_stub.cc:28] Could not find cuda drivers on your machine, GPU will not be used.\n",
      "2023-09-04 13:23:18.662572: I tensorflow/tsl/cuda/cudart_stub.cc:28] Could not find cuda drivers on your machine, GPU will not be used.\n",
      "2023-09-04 13:23:18.662959: I tensorflow/core/platform/cpu_feature_guard.cc:182] This TensorFlow binary is optimized to use available CPU instructions in performance-critical operations.\n",
      "To enable the following instructions: AVX2 AVX_VNNI FMA, in other operations, rebuild TensorFlow with the appropriate compiler flags.\n",
      "2023-09-04 13:23:19.180409: W tensorflow/compiler/tf2tensorrt/utils/py_utils.cc:38] TF-TRT Warning: Could not find TensorRT\n",
      "2023-09-04 13:23:19.753709: I tensorflow/compiler/xla/stream_executor/cuda/cuda_gpu_executor.cc:981] could not open file to read NUMA node: /sys/bus/pci/devices/0000:01:00.0/numa_node\n",
      "Your kernel may have been built without NUMA support.\n",
      "2023-09-04 13:23:19.753920: W tensorflow/core/common_runtime/gpu/gpu_device.cc:1960] Cannot dlopen some GPU libraries. Please make sure the missing libraries mentioned above are installed properly if you would like to use GPU. Follow the guide at https://www.tensorflow.org/install/gpu for how to download and setup the required libraries for your platform.\n",
      "Skipping registering GPU devices...\n",
      "1/1 [==============================] - 1s 506ms/step\n",
      "1/1 [==============================] - 0s 441ms/step               (1 + 1) / 20]\n",
      "1/1 [==============================] - 0s 474ms/step               (2 + 1) / 20]\n",
      "1/1 [==============================] - 0s 457ms/step               (3 + 1) / 20]\n",
      "WARNING:tensorflow:5 out of the last 5 calls to <function Model.make_predict_function.<locals>.predict_function at 0x7feb604483a0> triggered tf.function retracing. Tracing is expensive and the excessive number of tracings could be due to (1) creating @tf.function repeatedly in a loop, (2) passing tensors with different shapes, (3) passing Python objects instead of tensors. For (1), please define your @tf.function outside of the loop. For (2), @tf.function has reduce_retracing=True option that can avoid unnecessary retracing. For (3), please refer to https://www.tensorflow.org/guide/function#controlling_retracing and https://www.tensorflow.org/api_docs/python/tf/function for  more details.\n",
      "1/1 [==============================] - 0s 445ms/step\n",
      "WARNING:tensorflow:6 out of the last 6 calls to <function Model.make_predict_function.<locals>.predict_function at 0x7febe0cfc3a0> triggered tf.function retracing. Tracing is expensive and the excessive number of tracings could be due to (1) creating @tf.function repeatedly in a loop, (2) passing tensors with different shapes, (3) passing Python objects instead of tensors. For (1), please define your @tf.function outside of the loop. For (2), @tf.function has reduce_retracing=True option that can avoid unnecessary retracing. For (3), please refer to https://www.tensorflow.org/guide/function#controlling_retracing and https://www.tensorflow.org/api_docs/python/tf/function for  more details.\n",
      "1/1 [==============================] - 0s 443ms/step\n",
      "1/1 [==============================] - 0s 452ms/step               (6 + 1) / 20]\n",
      "1/1 [==============================] - 0s 437ms/step               (7 + 1) / 20]\n",
      "1/1 [==============================] - 0s 471ms/step               (8 + 1) / 20]\n",
      "1/1 [==============================] - 0s 465ms/step               (9 + 1) / 20]\n",
      "1/1 [==============================] - 0s 463ms/step              (10 + 1) / 20]\n",
      "1/1 [==============================] - 0s 476ms/step              (11 + 1) / 20]\n",
      "1/1 [==============================] - 0s 479ms/step              (12 + 1) / 20]\n",
      "1/1 [==============================] - 0s 449ms/step              (13 + 1) / 20]\n",
      "1/1 [==============================] - 0s 479ms/step              (14 + 1) / 20]\n",
      "1/1 [==============================] - 0s 484ms/step>             (15 + 1) / 20]\n",
      "1/1 [==============================] - 1s 527ms/step==>           (16 + 1) / 20]\n",
      "1/1 [==============================] - 1s 503ms/step=====>        (17 + 1) / 20]\n",
      "1/1 [==============================] - 1s 506ms/step========>     (18 + 1) / 20]\n",
      "1/1 [==============================] - 1s 526ms/step===========>  (19 + 1) / 20]\n",
      "                                                                                \r"
     ]
    },
    {
     "data": {
      "text/plain": [
       "330"
      ]
     },
     "execution_count": 48,
     "metadata": {},
     "output_type": "execute_result"
    }
   ],
   "source": [
    "features_df.cache()\n",
    "features_df.count() "
   ]
  },
  {
   "cell_type": "code",
   "execution_count": 49,
   "metadata": {},
   "outputs": [
    {
     "data": {
      "text/plain": [
       "Row(path='file:/home/nox/OpenClassroom/P9/Test1/Apple Braeburn/r_42_100.jpg', label='Apple Braeburn', features=[0.8058841228485107, 0.07883615046739578, 0.0, 0.0, 0.0, 0.6389163136482239, 0.6069908738136292, 0.0, 0.34067487716674805, 0.13478685915470123, 0.0, 0.029806507751345634, 0.0, 0.0, 0.0, 0.2536926567554474, 0.0, 0.0, 0.12674415111541748, 0.0365186408162117, 0.0, 0.057646285742521286, 0.0, 0.0, 0.0, 0.0, 0.27735090255737305, 0.0, 0.0, 0.3822418451309204, 0.0, 0.0, 0.010006563737988472, 0.0, 0.0, 0.38149359822273254, 3.085493326187134, 1.5804065465927124, 0.12194456160068512, 0.0, 0.3676198124885559, 0.0, 0.09849461913108826, 0.10106868296861649, 0.0, 0.0, 0.10051421821117401, 0.20787304639816284, 0.21403343975543976, 0.0, 0.0, 0.767139196395874, 0.0448344387114048, 0.033961761742830276, 0.0, 1.5115808248519897, 0.0, 0.0059667606838047504, 0.0, 0.029972698539495468, 0.0, 0.38268178701400757, 0.10392799228429794, 0.0, 0.4198763370513916, 0.2493441104888916, 0.42211952805519104, 0.3676537871360779, 0.0, 0.7351107597351074, 0.0, 0.14155831933021545, 0.0, 0.2508222162723541, 1.6456663608551025, 0.0, 0.8829621076583862, 0.0, 0.0, 0.0644410252571106, 0.16855379939079285, 0.22231008112430573, 0.0, 0.020870821550488472, 0.0, 0.00036816694773733616, 0.0, 0.020319325849413872, 0.0, 0.13825030624866486, 1.9053276777267456, 0.6989511847496033, 0.0, 0.0038478034548461437, 2.3861570358276367, 0.0, 0.0, 0.0, 0.0, 0.0, 3.229607343673706, 0.0, 0.0, 0.0, 0.0, 0.0, 0.1673823744058609, 0.24403634667396545, 0.0, 0.0, 0.0, 0.0, 0.0, 1.7906677722930908, 0.1092929095029831, 0.021746665239334106, 0.09450909495353699, 0.0, 0.13123288750648499, 1.1698403358459473, 0.0, 0.0, 0.0, 0.8187738656997681, 0.0, 0.0, 1.0390543937683105, 1.797438383102417, 0.0, 1.3209599256515503, 0.022478658705949783, 0.7751266956329346, 0.05156182125210762, 0.0, 0.016341326758265495, 0.10671409964561462, 0.0, 0.0, 0.0, 1.522239327430725, 0.0, 0.17874635756015778, 0.0, 0.18625150620937347, 0.0, 0.04518018290400505, 2.43139910697937, 1.2837742567062378, 0.06739120930433273, 0.009522671811282635, 2.413475275039673, 0.5250676274299622, 0.0015664392849430442, 0.007340703625231981, 0.02472182735800743, 0.002152316505089402, 0.0, 0.0, 0.3849194645881653, 0.027640460059046745, 0.8286377191543579, 0.0, 0.0, 0.7071302533149719, 0.0770898088812828, 0.8865933418273926, 0.0034391151275485754, 0.0, 0.13081541657447815, 0.1515798717737198, 0.16230854392051697, 0.0278666652739048, 0.0, 0.0, 0.0, 0.12704969942569733, 0.00390011933632195, 0.0, 0.08296731114387512, 0.0, 0.1485089361667633, 0.0, 2.706740379333496, 0.0, 0.06532178819179535, 3.2283475399017334, 0.00028602444217540324, 2.1154391765594482, 0.0, 0.0, 0.0, 0.07180128246545792, 0.0, 0.4688969552516937, 0.0289369598031044, 0.021964987739920616, 0.0, 0.0, 0.0, 0.19833369553089142, 0.0, 0.12450841814279556, 0.0, 2.1536216735839844, 0.0, 0.0, 0.0, 0.29746323823928833, 0.0005280436016619205, 0.0, 0.0, 0.0, 0.6233651041984558, 0.0, 0.0, 1.9589272737503052, 0.0, 0.013673480600118637, 0.0, 0.0, 0.012979050166904926, 0.0, 0.09605983644723892, 0.8414533138275146, 0.0, 0.061570703983306885, 0.05468253791332245, 0.0, 0.9967033267021179, 0.15131732821464539, 0.855437159538269, 0.0, 0.003367754863575101, 0.0, 0.0, 0.0, 1.9475747346878052, 0.0, 0.0, 1.2930364608764648, 2.29305100440979, 0.0, 0.0, 0.005750967655330896, 0.44294100999832153, 0.08400509506464005, 0.06430695950984955, 0.04026363417506218, 0.1669272929430008, 0.02014457993209362, 0.27414649724960327, 0.0, 0.4228776693344116, 0.33586880564689636, 0.3390367329120636, 3.7276954650878906, 3.187119722366333, 3.9198944568634033, 0.549504280090332, 0.11191543191671371, 0.0, 1.0436919927597046, 0.04185773804783821, 0.0, 0.15467801690101624, 0.03125001862645149, 0.0, 0.0, 0.0, 0.6842151284217834, 0.0, 0.0, 0.0, 0.0, 0.0, 0.4790347218513489, 0.0, 3.388639450073242, 0.2533460259437561, 0.0, 1.3108972311019897, 0.0, 0.007866528816521168, 0.0, 1.8977725505828857, 0.03562582656741142, 0.0, 0.0, 0.0, 0.0, 0.0, 1.0430463552474976, 0.388165682554245, 0.02320822887122631, 0.0, 1.3312455415725708, 0.0, 0.7860755920410156, 0.0, 0.15018461644649506, 0.0, 0.8853147625923157, 0.006353738252073526, 0.0, 0.34106379747390747, 0.1587062031030655, 0.0, 0.0, 0.2762601375579834, 0.5924192070960999, 2.127586603164673, 0.021700236946344376, 0.0, 0.04544968530535698, 0.0, 1.1868150234222412, 0.06147953122854233, 0.0, 0.0, 0.0, 0.0, 0.28411874175071716, 0.30794253945350647, 0.8001998662948608, 0.0, 0.0, 0.0, 0.0, 0.0, 0.019506046548485756, 0.0, 0.0, 0.4257488548755646, 0.22313755750656128, 1.347713589668274, 0.0, 0.47704577445983887, 0.0, 0.0, 1.28184974193573, 0.0, 0.0, 0.0, 0.0, 0.6439763307571411, 0.37537235021591187, 0.0, 0.0, 0.0, 0.0, 1.2246471643447876, 0.0, 0.0, 2.3430538177490234, 0.012146852910518646, 0.0, 0.0, 0.0, 1.0103143453598022, 0.033909350633621216, 0.017084315419197083, 0.19624009728431702, 0.0, 0.15093165636062622, 0.0, 0.7994694709777832, 1.2507508993148804, 0.0, 0.0, 0.03929421305656433, 0.10859833657741547, 0.2782861590385437, 0.0, 0.03844523802399635, 2.4961962699890137, 0.0, 0.0, 1.6171127557754517, 0.6793309450149536, 0.0, 0.04189777374267578, 0.19771486520767212, 0.32174134254455566, 0.15025122463703156, 0.0, 0.0, 0.0, 0.0, 0.5328645706176758, 0.5455129742622375, 0.7105690240859985, 0.0, 0.0, 0.0, 0.2952130436897278, 0.008436212316155434, 0.7399100661277771, 0.5758571624755859, 0.0, 0.024431072175502777, 0.0, 0.7008852958679199, 0.34952327609062195, 0.0, 0.0, 0.8581752181053162, 0.5627748370170593, 0.0, 0.049857351928949356, 0.1645851880311966, 0.0, 1.830363392829895, 0.0, 0.0, 0.11822597682476044, 0.0, 0.0, 1.023822546005249, 0.0, 1.9906548261642456, 0.0, 0.9235203266143799, 0.0, 0.015531189739704132, 0.6894111037254333, 0.0, 2.2202138900756836, 0.4636211693286896, 0.004835702944546938, 0.0, 0.004626702517271042, 0.0, 0.0, 0.005638939794152975, 0.929349422454834, 0.0, 0.2975131869316101, 1.0345009565353394, 0.0, 0.023945322260260582, 0.0, 0.014748855493962765, 2.3839306831359863, 0.6118001341819763, 0.08505888283252716, 0.9981908798217773, 0.15718871355056763, 0.0, 0.0, 0.0, 0.0, 0.9248680472373962, 0.0, 0.9885462522506714, 0.04006403312087059, 1.3668473958969116, 0.0, 0.0, 0.4865114390850067, 0.015580527484416962, 0.6008709669113159, 0.002621611813083291, 0.0979011282324791, 0.0, 0.7443166375160217, 0.0, 2.456747055053711, 0.07229349762201309, 1.5468432903289795, 0.0, 0.0091288723051548, 0.0, 0.0, 0.2211541384458542, 0.15233775973320007, 0.0, 0.08841054141521454, 0.013165298849344254, 0.0, 1.6664835214614868, 0.07942681759595871, 0.004706908017396927, 0.07540805637836456, 0.0651763528585434, 0.3057311773300171, 1.025564193725586, 1.882003664970398, 0.5856215357780457, 0.0, 0.9898983836174011, 0.016278713941574097, 0.117023766040802, 0.0, 1.899188756942749, 3.8296122550964355, 0.0, 0.0, 0.4548884928226471, 0.0864882841706276, 0.0, 0.012613199651241302, 1.8374500274658203, 0.0, 0.0, 0.0, 0.0, 0.0, 0.0, 0.0, 0.12336623668670654, 0.0, 0.0, 0.0, 0.0, 0.0, 0.5402926802635193, 0.0, 0.18068745732307434, 0.5725494623184204, 0.0352725014090538, 0.0, 2.2467358112335205, 0.0, 1.3127782344818115, 0.24628062546253204, 0.561168372631073, 0.3217155635356903, 0.21339093148708344, 0.4818647801876068, 0.012968190014362335, 0.334942489862442, 3.188298225402832, 0.0, 0.16513603925704956, 0.049657635390758514, 3.5358705520629883, 0.0, 0.0, 0.11153247207403183, 0.0, 0.0, 0.0, 0.10864093154668808, 0.0, 0.19121259450912476, 0.3073694109916687, 0.26929330825805664, 0.854027509689331, 2.3199832439422607, 0.19533032178878784, 0.0, 0.09270206093788147, 0.0, 0.0, 0.3801501989364624, 0.0, 0.16078075766563416, 0.0, 1.8144612312316895, 1.8217402696609497, 2.525009870529175, 0.0, 0.0, 1.5265991687774658, 0.0, 0.0, 0.5485765933990479, 0.0, 0.23468749225139618, 0.0, 0.18978336453437805, 0.5029561519622803, 0.0, 0.018420131877064705, 0.0, 0.0, 1.913642406463623, 0.9709421992301941, 0.0, 1.6479971408843994, 1.4039387702941895, 0.012021609582006931, 0.01854710653424263, 0.013633806258440018, 0.0, 0.09817539155483246, 0.6337251663208008, 0.0, 1.638907551765442, 0.4680030941963196, 0.2000291794538498, 0.0, 0.0, 2.4801409244537354, 1.9571274518966675, 0.24710005521774292, 0.0, 0.02618500590324402, 0.5691332817077637, 0.0, 0.04420897364616394, 0.10584672540426254, 0.0, 0.0, 0.0, 0.0, 0.2037898153066635, 0.0, 0.0, 0.0, 0.8930552005767822, 0.3972919285297394, 0.0, 0.0, 0.0007696638349443674, 0.2426246702671051, 0.0, 0.49660009145736694, 0.13283611834049225, 0.38411906361579895, 0.0, 0.013217740692198277, 1.0327943563461304, 0.019057458266615868, 0.0, 0.0, 0.0, 0.0, 0.0, 0.0, 0.5990098714828491, 0.092177614569664, 0.0, 0.0, 0.0, 0.0, 0.6131686568260193, 0.09976939857006073, 0.22253133356571198, 3.3728482723236084, 0.5483360886573792, 2.8631062507629395, 1.9511206150054932, 0.15667882561683655, 0.34487560391426086, 0.3446933329105377, 0.0, 0.0, 2.0997073650360107, 0.0, 0.00422205263748765, 2.5053653717041016, 0.0, 0.0, 0.02697763592004776, 0.0, 0.5129784941673279, 0.34431788325309753, 0.0, 0.02334454655647278, 1.1673210859298706, 0.07110920548439026, 0.07827521115541458, 0.0, 0.19354896247386932, 0.0, 0.0, 0.0, 0.0, 0.06521022319793701, 0.0, 0.03595595434308052, 1.5621201992034912, 0.17829564213752747, 1.8950142860412598, 0.9269202351570129, 0.11063569784164429, 0.0, 0.0, 0.15197382867336273, 0.0, 0.0, 0.0, 0.0, 0.38397863507270813, 1.011399745941162, 0.020008038729429245, 1.222281813621521, 0.0, 1.951396107673645, 0.8628870248794556, 0.0, 0.0, 0.0, 0.0, 0.6749852299690247, 0.0, 0.024511871859431267, 0.03432847186923027, 0.004623549524694681, 0.05391561612486839, 0.026153866201639175, 0.0, 0.018292417749762535, 0.0, 0.0, 0.1296444982290268, 0.0, 0.0, 0.0, 0.0, 7.706272299401462e-05, 0.0, 0.0, 0.833386242389679, 0.1728837937116623, 0.6780163645744324, 2.4162936210632324, 0.0, 0.0, 0.0, 0.0, 0.8781723380088806, 0.0, 0.0, 0.14934498071670532, 0.029631663113832474, 1.4640194177627563, 0.0, 0.0, 0.0, 0.007074365857988596, 0.8037568926811218, 0.0, 0.0, 0.23903165757656097, 0.0, 0.0, 1.4676202535629272, 0.0, 0.0, 0.9863854050636292, 0.553638219833374, 0.011948099359869957, 0.05870945751667023, 0.015139658004045486, 0.0, 0.2859640419483185, 0.1176503598690033, 0.0556437149643898, 0.0, 0.0, 0.0, 1.9882274866104126, 1.4993250370025635, 0.0, 0.9593480825424194, 0.0, 0.55044025182724, 0.0, 0.0, 0.0, 0.0737508237361908, 0.0, 0.0, 0.6416352391242981, 1.4531733989715576, 0.5738517045974731, 0.5525798201560974, 0.0, 1.8305085897445679, 0.09646422415971756, 0.0, 0.05583033338189125, 0.0, 0.6377439498901367, 0.9327623248100281, 0.7118304371833801, 0.0, 0.39000383019447327, 0.024037741124629974, 1.599662184715271, 0.016278384253382683, 0.022863125428557396, 0.2764923870563507, 0.06246718764305115, 0.0, 0.0, 0.33957165479660034, 0.0, 0.09112193435430527, 2.3217809200286865, 0.0, 0.3354412019252777, 0.0, 0.0, 0.0, 0.0, 0.0, 0.0234516691416502, 0.19942790269851685, 0.0, 0.0, 0.0, 1.7896032333374023, 0.0, 0.05002226307988167, 0.025443164631724358, 0.17405280470848083, 0.5118222832679749, 0.0, 0.032413724809885025, 0.12263663113117218, 0.6966147422790527, 0.41978719830513, 0.010079607367515564, 0.0, 0.00678911991417408, 0.13234634697437286, 0.2936815619468689, 1.5337183475494385, 0.4000961482524872, 0.0, 0.26989153027534485, 0.6326990723609924, 0.01579456962645054, 0.0, 2.5462348461151123, 0.0, 2.822274684906006, 0.0, 0.4416220486164093, 0.11719496548175812, 0.0, 0.8233624696731567, 0.0, 0.0, 0.9309805035591125, 0.10757951438426971, 0.007230476476252079, 0.0005564592429436743, 0.017126180231571198, 0.013040046207606792, 0.0, 0.5452413558959961, 0.8037951588630676, 0.0, 1.4739317893981934, 0.0, 0.0, 0.0, 1.6582133769989014, 0.0, 0.5860065817832947, 0.010618520900607109, 0.03023517318069935, 1.1023558378219604, 0.0, 0.0, 0.0, 1.596620798110962, 0.025548866018652916, 0.0, 0.32459917664527893, 0.0, 0.03947795182466507, 0.0, 0.0, 1.3826181888580322, 0.3680654764175415, 0.011095630936324596, 0.0, 0.2786554992198944, 0.2540448307991028, 0.6297726035118103, 0.0, 0.0, 0.0, 0.0, 0.1400666981935501, 0.0, 2.2052605152130127, 0.13005952537059784, 0.0, 0.0, 0.46543097496032715, 4.070964813232422, 0.0, 0.0, 0.04593092203140259, 0.8357532024383545, 0.0, 0.0, 0.6947957873344421, 0.0, 0.009468614123761654, 0.0048416489735245705, 0.011043714359402657, 0.6626406311988831, 0.02688783034682274, 0.09959414601325989, 0.009760360233485699, 0.0, 0.0, 0.04896416887640953, 0.005571433342993259, 0.0, 0.17965979874134064, 0.0, 1.8693664073944092, 0.0, 0.02148056961596012, 0.6509162187576294, 0.0, 0.0, 0.0, 0.0, 1.493118166923523, 0.2571121156215668, 0.020186210051178932, 0.0, 0.0, 0.06495711952447891, 0.0, 0.7707507014274597, 0.0, 0.0168139785528183, 0.4603008031845093, 0.10642658174037933, 0.8283488750457764, 0.0, 0.0, 0.6753328442573547, 0.4135760962963104, 0.0, 0.0, 0.4185766875743866, 0.0, 0.0, 2.0388989448547363, 0.0, 0.0925665944814682, 0.0, 1.4075983762741089, 0.007373517844825983, 0.0, 1.4330544471740723, 0.0, 0.1123923733830452, 0.0, 0.025751814246177673, 2.3852615356445312, 0.0, 0.2375694215297699, 0.0, 1.0500781536102295, 0.0, 0.0, 0.0, 0.0, 0.0, 0.006470972206443548, 0.0, 0.0, 2.5629374980926514, 0.0, 0.0, 1.3821860551834106, 0.048278242349624634, 0.0, 0.004900046624243259, 2.394561529159546, 0.0, 3.02099609375, 0.4238640069961548, 0.0, 0.07805503904819489, 0.045909006148576736, 0.000952380069065839, 0.0668468251824379, 0.11285513639450073, 0.0, 0.15298889577388763, 0.0, 0.36904236674308777, 0.03438863903284073, 0.0, 0.0, 0.0, 0.07092312723398209, 0.0, 0.0, 0.0, 0.020639361813664436, 0.09435859322547913, 0.3985230624675751, 0.0, 0.011879930272698402, 0.0, 0.9430618286132812, 0.1351844072341919, 0.08514373004436493, 0.12124262005090714, 0.0, 0.0, 0.013367749750614166, 0.8414166569709778, 0.0, 0.0, 1.0052471160888672, 0.3902519643306732, 0.0, 0.0, 0.0, 0.0, 0.0709046721458435, 0.5569446086883545, 0.47024667263031006, 0.054024405777454376, 0.0, 3.3271889686584473, 3.407407283782959, 0.0, 0.09870804846286774, 0.0, 0.0, 0.3519701361656189, 0.0508585162460804, 0.8899248242378235, 0.0, 0.0, 0.0, 0.4006417691707611, 2.1256821155548096, 0.2890532314777374, 0.0, 0.0, 0.11006131768226624, 0.0064422450959682465, 0.06810073554515839, 0.030034376308321953, 0.0, 0.0992891862988472, 0.0, 0.004113333765417337, 0.2853128910064697, 0.0, 0.32859018445014954, 0.0, 0.016053637489676476, 0.0, 0.0, 0.16780857741832733, 0.8580763936042786, 1.6471428871154785, 0.2575099766254425, 0.2221141755580902, 1.2114557027816772, 0.0, 0.0, 0.5567075610160828, 0.07005853950977325, 0.04947405308485031, 0.0, 0.6842165589332581, 0.026071889325976372, 0.3589256703853607, 0.03402182459831238, 0.38863489031791687, 0.0, 0.40136271715164185, 0.008017228916287422, 0.4785654544830322, 0.020433757454156876, 0.0, 0.003421822329983115, 0.08784729242324829, 0.9615053534507751, 1.9775145053863525, 0.0, 0.0, 0.0, 0.0, 0.027934016659855843, 0.8598052263259888, 0.45120659470558167, 0.0, 0.4263498783111572, 0.018161073327064514, 3.0575671195983887, 2.10648512840271, 0.0, 0.008542557246983051, 0.8726041316986084, 0.0, 0.0, 0.0, 0.7112095355987549, 0.3833176791667938, 0.1312592327594757, 0.09810154139995575, 0.0, 0.0, 0.19985654950141907, 0.05180470645427704, 0.166728213429451, 0.0, 0.0, 0.0, 0.0, 0.0, 0.47306662797927856, 0.0, 0.0, 0.05602004751563072, 0.0, 0.0, 0.02358245849609375, 0.0, 0.02702009491622448, 0.0016346562188118696, 0.0, 0.0, 0.0, 0.02017112635076046, 0.0, 0.4102620482444763, 1.2592182159423828, 0.6970263123512268, 2.566206455230713, 0.0, 0.0, 0.583500325679779, 0.06241454929113388, 1.2792456150054932, 0.0, 0.0, 0.9542930722236633, 0.19642525911331177, 0.0, 0.0, 0.18103618919849396, 0.002978149801492691, 1.1160274744033813, 2.0605649948120117, 0.3347572684288025, 0.0, 0.009709397330880165, 0.0, 0.002287572715431452, 0.1620791256427765, 1.6811107397079468, 0.06071263924241066, 0.032984666526317596, 0.0, 0.0, 0.23317819833755493, 0.0, 0.8779979348182678, 0.98218834400177, 1.2753552198410034, 0.05038701370358467, 0.5694491863250732, 0.0, 0.0, 0.0, 0.0, 0.05319865047931671, 0.03456151857972145, 0.0, 0.1930675506591797, 0.0, 1.0387872457504272, 0.002751272637397051, 0.0, 0.5878906846046448, 0.0, 0.5433509349822998, 0.20005708932876587, 0.0, 0.0, 0.0, 0.192244291305542, 0.0, 2.8054392337799072, 0.0, 0.3897625207901001, 0.6297335028648376, 0.021958963945508003, 0.28232264518737793, 0.13454926013946533, 0.0, 0.3524642884731293, 0.7196678519248962, 1.3402665853500366, 0.017246149480342865, 0.019557369872927666, 0.07754016667604446, 0.07211582362651825, 0.0033334712497889996, 0.0, 0.0, 0.1878940761089325, 0.008649349212646484, 0.46820348501205444, 0.0, 0.0, 0.14357317984104156, 0.6589015126228333, 0.0, 0.024168910458683968, 0.0008673667907714844, 0.4613040089607239, 0.13079804182052612, 2.1126129627227783, 0.08783837407827377, 0.0, 0.0, 0.0, 0.0, 0.1140228807926178, 1.3060373067855835, 0.0, 4.173972129821777, 0.3666471242904663, 2.5936930179595947, 2.395030975341797, 0.0, 0.5729619264602661, 0.0, 2.6320559978485107, 0.3951388895511627, 0.0, 0.0, 0.7324482798576355, 0.0, 0.0, 0.0, 0.0, 0.0783984586596489, 0.00040123413782566786, 0.0, 0.08638796210289001, 0.0, 0.0, 0.4541622996330261, 0.0, 0.05778711661696434, 0.05261382460594177, 0.0, 0.0, 0.7104631662368774, 0.0, 0.029338505119085312, 0.0, 1.3377677202224731, 0.0, 0.012841039337217808, 0.037936367094516754, 0.0730828046798706, 0.008790658786892891, 0.2096194475889206, 0.0, 1.8387843370437622, 0.05483198165893555, 0.0015764042036607862, 0.0, 0.3901893198490143, 0.08298464119434357, 0.4972226619720459, 0.1355961561203003, 0.06242957338690758, 0.0, 0.0, 0.060058847069740295, 0.0, 0.0, 0.0, 0.0, 0.0])"
      ]
     },
     "execution_count": 49,
     "metadata": {},
     "output_type": "execute_result"
    }
   ],
   "source": [
    "features_df.head()"
   ]
  },
  {
   "cell_type": "code",
   "execution_count": 50,
   "metadata": {},
   "outputs": [
    {
     "name": "stdout",
     "output_type": "stream",
     "text": [
      "/home/nox/OpenClassroom/P9/Results_test\n"
     ]
    }
   ],
   "source": [
    "print(PATH_Result)"
   ]
  },
  {
   "cell_type": "code",
   "execution_count": 51,
   "metadata": {},
   "outputs": [],
   "source": [
    "features_df.write.mode(\"overwrite\").parquet(PATH_Result)"
   ]
  },
  {
   "cell_type": "code",
   "execution_count": 52,
   "metadata": {},
   "outputs": [],
   "source": [
    "df = pd.read_parquet('./EMR/Result_pca_aws/', engine='pyarrow')"
   ]
  },
  {
   "cell_type": "code",
   "execution_count": 53,
   "metadata": {},
   "outputs": [
    {
     "data": {
      "text/html": [
       "<div>\n",
       "<style scoped>\n",
       "    .dataframe tbody tr th:only-of-type {\n",
       "        vertical-align: middle;\n",
       "    }\n",
       "\n",
       "    .dataframe tbody tr th {\n",
       "        vertical-align: top;\n",
       "    }\n",
       "\n",
       "    .dataframe thead th {\n",
       "        text-align: right;\n",
       "    }\n",
       "</style>\n",
       "<table border=\"1\" class=\"dataframe\">\n",
       "  <thead>\n",
       "    <tr style=\"text-align: right;\">\n",
       "      <th></th>\n",
       "      <th>path</th>\n",
       "      <th>label</th>\n",
       "      <th>features</th>\n",
       "      <th>pca_features</th>\n",
       "    </tr>\n",
       "  </thead>\n",
       "  <tbody>\n",
       "    <tr>\n",
       "      <th>0</th>\n",
       "      <td>s3://oc-p9-data/EMR/Test/Watermelon/r_66_100.jpg</td>\n",
       "      <td>Watermelon</td>\n",
       "      <td>{'type': 1, 'size': None, 'indices': None, 'va...</td>\n",
       "      <td>{'type': 1, 'size': None, 'indices': None, 'va...</td>\n",
       "    </tr>\n",
       "    <tr>\n",
       "      <th>1</th>\n",
       "      <td>s3://oc-p9-data/EMR/Test/Watermelon/r_73_100.jpg</td>\n",
       "      <td>Watermelon</td>\n",
       "      <td>{'type': 1, 'size': None, 'indices': None, 'va...</td>\n",
       "      <td>{'type': 1, 'size': None, 'indices': None, 'va...</td>\n",
       "    </tr>\n",
       "    <tr>\n",
       "      <th>2</th>\n",
       "      <td>s3://oc-p9-data/EMR/Test/Pineapple Mini/140_10...</td>\n",
       "      <td>Pineapple Mini</td>\n",
       "      <td>{'type': 1, 'size': None, 'indices': None, 'va...</td>\n",
       "      <td>{'type': 1, 'size': None, 'indices': None, 'va...</td>\n",
       "    </tr>\n",
       "    <tr>\n",
       "      <th>3</th>\n",
       "      <td>s3://oc-p9-data/EMR/Test/Pineapple Mini/129_10...</td>\n",
       "      <td>Pineapple Mini</td>\n",
       "      <td>{'type': 1, 'size': None, 'indices': None, 'va...</td>\n",
       "      <td>{'type': 1, 'size': None, 'indices': None, 'va...</td>\n",
       "    </tr>\n",
       "    <tr>\n",
       "      <th>4</th>\n",
       "      <td>s3://oc-p9-data/EMR/Test/Cauliflower/r_181_100...</td>\n",
       "      <td>Cauliflower</td>\n",
       "      <td>{'type': 1, 'size': None, 'indices': None, 'va...</td>\n",
       "      <td>{'type': 1, 'size': None, 'indices': None, 'va...</td>\n",
       "    </tr>\n",
       "  </tbody>\n",
       "</table>\n",
       "</div>"
      ],
      "text/plain": [
       "                                                path           label  \\\n",
       "0   s3://oc-p9-data/EMR/Test/Watermelon/r_66_100.jpg      Watermelon   \n",
       "1   s3://oc-p9-data/EMR/Test/Watermelon/r_73_100.jpg      Watermelon   \n",
       "2  s3://oc-p9-data/EMR/Test/Pineapple Mini/140_10...  Pineapple Mini   \n",
       "3  s3://oc-p9-data/EMR/Test/Pineapple Mini/129_10...  Pineapple Mini   \n",
       "4  s3://oc-p9-data/EMR/Test/Cauliflower/r_181_100...     Cauliflower   \n",
       "\n",
       "                                            features  \\\n",
       "0  {'type': 1, 'size': None, 'indices': None, 'va...   \n",
       "1  {'type': 1, 'size': None, 'indices': None, 'va...   \n",
       "2  {'type': 1, 'size': None, 'indices': None, 'va...   \n",
       "3  {'type': 1, 'size': None, 'indices': None, 'va...   \n",
       "4  {'type': 1, 'size': None, 'indices': None, 'va...   \n",
       "\n",
       "                                        pca_features  \n",
       "0  {'type': 1, 'size': None, 'indices': None, 'va...  \n",
       "1  {'type': 1, 'size': None, 'indices': None, 'va...  \n",
       "2  {'type': 1, 'size': None, 'indices': None, 'va...  \n",
       "3  {'type': 1, 'size': None, 'indices': None, 'va...  \n",
       "4  {'type': 1, 'size': None, 'indices': None, 'va...  "
      ]
     },
     "execution_count": 53,
     "metadata": {},
     "output_type": "execute_result"
    }
   ],
   "source": [
    "df.head()"
   ]
  },
  {
   "cell_type": "code",
   "execution_count": 54,
   "metadata": {},
   "outputs": [
    {
     "data": {
      "text/html": [
       "<div>\n",
       "<style scoped>\n",
       "    .dataframe tbody tr th:only-of-type {\n",
       "        vertical-align: middle;\n",
       "    }\n",
       "\n",
       "    .dataframe tbody tr th {\n",
       "        vertical-align: top;\n",
       "    }\n",
       "\n",
       "    .dataframe thead th {\n",
       "        text-align: right;\n",
       "    }\n",
       "</style>\n",
       "<table border=\"1\" class=\"dataframe\">\n",
       "  <thead>\n",
       "    <tr style=\"text-align: right;\">\n",
       "      <th></th>\n",
       "      <th>path</th>\n",
       "      <th>label</th>\n",
       "      <th>features</th>\n",
       "      <th>pca_features</th>\n",
       "    </tr>\n",
       "  </thead>\n",
       "  <tbody>\n",
       "    <tr>\n",
       "      <th>0</th>\n",
       "      <td>s3://oc-p9-data/EMR/Test/Watermelon/r_66_100.jpg</td>\n",
       "      <td>Watermelon</td>\n",
       "      <td>{'type': 1, 'size': None, 'indices': None, 'va...</td>\n",
       "      <td>{'type': 1, 'size': None, 'indices': None, 'va...</td>\n",
       "    </tr>\n",
       "    <tr>\n",
       "      <th>1</th>\n",
       "      <td>s3://oc-p9-data/EMR/Test/Watermelon/r_73_100.jpg</td>\n",
       "      <td>Watermelon</td>\n",
       "      <td>{'type': 1, 'size': None, 'indices': None, 'va...</td>\n",
       "      <td>{'type': 1, 'size': None, 'indices': None, 'va...</td>\n",
       "    </tr>\n",
       "    <tr>\n",
       "      <th>2</th>\n",
       "      <td>s3://oc-p9-data/EMR/Test/Pineapple Mini/140_10...</td>\n",
       "      <td>Pineapple Mini</td>\n",
       "      <td>{'type': 1, 'size': None, 'indices': None, 'va...</td>\n",
       "      <td>{'type': 1, 'size': None, 'indices': None, 'va...</td>\n",
       "    </tr>\n",
       "    <tr>\n",
       "      <th>3</th>\n",
       "      <td>s3://oc-p9-data/EMR/Test/Pineapple Mini/129_10...</td>\n",
       "      <td>Pineapple Mini</td>\n",
       "      <td>{'type': 1, 'size': None, 'indices': None, 'va...</td>\n",
       "      <td>{'type': 1, 'size': None, 'indices': None, 'va...</td>\n",
       "    </tr>\n",
       "    <tr>\n",
       "      <th>4</th>\n",
       "      <td>s3://oc-p9-data/EMR/Test/Cauliflower/r_181_100...</td>\n",
       "      <td>Cauliflower</td>\n",
       "      <td>{'type': 1, 'size': None, 'indices': None, 'va...</td>\n",
       "      <td>{'type': 1, 'size': None, 'indices': None, 'va...</td>\n",
       "    </tr>\n",
       "    <tr>\n",
       "      <th>5</th>\n",
       "      <td>s3://oc-p9-data/EMR/Test/Watermelon/249_100.jpg</td>\n",
       "      <td>Watermelon</td>\n",
       "      <td>{'type': 1, 'size': None, 'indices': None, 'va...</td>\n",
       "      <td>{'type': 1, 'size': None, 'indices': None, 'va...</td>\n",
       "    </tr>\n",
       "    <tr>\n",
       "      <th>6</th>\n",
       "      <td>s3://oc-p9-data/EMR/Test/Raspberry/111_100.jpg</td>\n",
       "      <td>Raspberry</td>\n",
       "      <td>{'type': 1, 'size': None, 'indices': None, 'va...</td>\n",
       "      <td>{'type': 1, 'size': None, 'indices': None, 'va...</td>\n",
       "    </tr>\n",
       "    <tr>\n",
       "      <th>7</th>\n",
       "      <td>s3://oc-p9-data/EMR/Test/Raspberry/88_100.jpg</td>\n",
       "      <td>Raspberry</td>\n",
       "      <td>{'type': 1, 'size': None, 'indices': None, 'va...</td>\n",
       "      <td>{'type': 1, 'size': None, 'indices': None, 'va...</td>\n",
       "    </tr>\n",
       "    <tr>\n",
       "      <th>8</th>\n",
       "      <td>s3://oc-p9-data/EMR/Test/Cauliflower/r2_226_10...</td>\n",
       "      <td>Cauliflower</td>\n",
       "      <td>{'type': 1, 'size': None, 'indices': None, 'va...</td>\n",
       "      <td>{'type': 1, 'size': None, 'indices': None, 'va...</td>\n",
       "    </tr>\n",
       "    <tr>\n",
       "      <th>9</th>\n",
       "      <td>s3://oc-p9-data/EMR/Test/Pineapple/3_100.jpg</td>\n",
       "      <td>Pineapple</td>\n",
       "      <td>{'type': 1, 'size': None, 'indices': None, 'va...</td>\n",
       "      <td>{'type': 1, 'size': None, 'indices': None, 'va...</td>\n",
       "    </tr>\n",
       "    <tr>\n",
       "      <th>10</th>\n",
       "      <td>s3://oc-p9-data/EMR/Test/Cauliflower/r2_197_10...</td>\n",
       "      <td>Cauliflower</td>\n",
       "      <td>{'type': 1, 'size': None, 'indices': None, 'va...</td>\n",
       "      <td>{'type': 1, 'size': None, 'indices': None, 'va...</td>\n",
       "    </tr>\n",
       "    <tr>\n",
       "      <th>11</th>\n",
       "      <td>s3://oc-p9-data/EMR/Test/Cauliflower/26_100.jpg</td>\n",
       "      <td>Cauliflower</td>\n",
       "      <td>{'type': 1, 'size': None, 'indices': None, 'va...</td>\n",
       "      <td>{'type': 1, 'size': None, 'indices': None, 'va...</td>\n",
       "    </tr>\n",
       "    <tr>\n",
       "      <th>12</th>\n",
       "      <td>s3://oc-p9-data/EMR/Test/Pineapple Mini/r_17_1...</td>\n",
       "      <td>Pineapple Mini</td>\n",
       "      <td>{'type': 1, 'size': None, 'indices': None, 'va...</td>\n",
       "      <td>{'type': 1, 'size': None, 'indices': None, 'va...</td>\n",
       "    </tr>\n",
       "    <tr>\n",
       "      <th>13</th>\n",
       "      <td>s3://oc-p9-data/EMR/Test/Apple Golden 1/96_100...</td>\n",
       "      <td>Apple Golden 1</td>\n",
       "      <td>{'type': 1, 'size': None, 'indices': None, 'va...</td>\n",
       "      <td>{'type': 1, 'size': None, 'indices': None, 'va...</td>\n",
       "    </tr>\n",
       "    <tr>\n",
       "      <th>14</th>\n",
       "      <td>s3://oc-p9-data/EMR/Test/Cauliflower/223_100.jpg</td>\n",
       "      <td>Cauliflower</td>\n",
       "      <td>{'type': 1, 'size': None, 'indices': None, 'va...</td>\n",
       "      <td>{'type': 1, 'size': None, 'indices': None, 'va...</td>\n",
       "    </tr>\n",
       "    <tr>\n",
       "      <th>15</th>\n",
       "      <td>s3://oc-p9-data/EMR/Test/Pineapple Mini/r_38_1...</td>\n",
       "      <td>Pineapple Mini</td>\n",
       "      <td>{'type': 1, 'size': None, 'indices': None, 'va...</td>\n",
       "      <td>{'type': 1, 'size': None, 'indices': None, 'va...</td>\n",
       "    </tr>\n",
       "    <tr>\n",
       "      <th>16</th>\n",
       "      <td>s3://oc-p9-data/EMR/Test/Apple Golden 1/129_10...</td>\n",
       "      <td>Apple Golden 1</td>\n",
       "      <td>{'type': 1, 'size': None, 'indices': None, 'va...</td>\n",
       "      <td>{'type': 1, 'size': None, 'indices': None, 'va...</td>\n",
       "    </tr>\n",
       "    <tr>\n",
       "      <th>17</th>\n",
       "      <td>s3://oc-p9-data/EMR/Test/Pear 2/r_249_100.jpg</td>\n",
       "      <td>Pear 2</td>\n",
       "      <td>{'type': 1, 'size': None, 'indices': None, 'va...</td>\n",
       "      <td>{'type': 1, 'size': None, 'indices': None, 'va...</td>\n",
       "    </tr>\n",
       "    <tr>\n",
       "      <th>18</th>\n",
       "      <td>s3://oc-p9-data/EMR/Test/Pear Red/r2_108_100.jpg</td>\n",
       "      <td>Pear Red</td>\n",
       "      <td>{'type': 1, 'size': None, 'indices': None, 'va...</td>\n",
       "      <td>{'type': 1, 'size': None, 'indices': None, 'va...</td>\n",
       "    </tr>\n",
       "    <tr>\n",
       "      <th>19</th>\n",
       "      <td>s3://oc-p9-data/EMR/Test/Onion White/r2_3_100.jpg</td>\n",
       "      <td>Onion White</td>\n",
       "      <td>{'type': 1, 'size': None, 'indices': None, 'va...</td>\n",
       "      <td>{'type': 1, 'size': None, 'indices': None, 'va...</td>\n",
       "    </tr>\n",
       "  </tbody>\n",
       "</table>\n",
       "</div>"
      ],
      "text/plain": [
       "                                                 path           label  \\\n",
       "0    s3://oc-p9-data/EMR/Test/Watermelon/r_66_100.jpg      Watermelon   \n",
       "1    s3://oc-p9-data/EMR/Test/Watermelon/r_73_100.jpg      Watermelon   \n",
       "2   s3://oc-p9-data/EMR/Test/Pineapple Mini/140_10...  Pineapple Mini   \n",
       "3   s3://oc-p9-data/EMR/Test/Pineapple Mini/129_10...  Pineapple Mini   \n",
       "4   s3://oc-p9-data/EMR/Test/Cauliflower/r_181_100...     Cauliflower   \n",
       "5     s3://oc-p9-data/EMR/Test/Watermelon/249_100.jpg      Watermelon   \n",
       "6      s3://oc-p9-data/EMR/Test/Raspberry/111_100.jpg       Raspberry   \n",
       "7       s3://oc-p9-data/EMR/Test/Raspberry/88_100.jpg       Raspberry   \n",
       "8   s3://oc-p9-data/EMR/Test/Cauliflower/r2_226_10...     Cauliflower   \n",
       "9        s3://oc-p9-data/EMR/Test/Pineapple/3_100.jpg       Pineapple   \n",
       "10  s3://oc-p9-data/EMR/Test/Cauliflower/r2_197_10...     Cauliflower   \n",
       "11    s3://oc-p9-data/EMR/Test/Cauliflower/26_100.jpg     Cauliflower   \n",
       "12  s3://oc-p9-data/EMR/Test/Pineapple Mini/r_17_1...  Pineapple Mini   \n",
       "13  s3://oc-p9-data/EMR/Test/Apple Golden 1/96_100...  Apple Golden 1   \n",
       "14   s3://oc-p9-data/EMR/Test/Cauliflower/223_100.jpg     Cauliflower   \n",
       "15  s3://oc-p9-data/EMR/Test/Pineapple Mini/r_38_1...  Pineapple Mini   \n",
       "16  s3://oc-p9-data/EMR/Test/Apple Golden 1/129_10...  Apple Golden 1   \n",
       "17      s3://oc-p9-data/EMR/Test/Pear 2/r_249_100.jpg          Pear 2   \n",
       "18   s3://oc-p9-data/EMR/Test/Pear Red/r2_108_100.jpg        Pear Red   \n",
       "19  s3://oc-p9-data/EMR/Test/Onion White/r2_3_100.jpg     Onion White   \n",
       "\n",
       "                                             features  \\\n",
       "0   {'type': 1, 'size': None, 'indices': None, 'va...   \n",
       "1   {'type': 1, 'size': None, 'indices': None, 'va...   \n",
       "2   {'type': 1, 'size': None, 'indices': None, 'va...   \n",
       "3   {'type': 1, 'size': None, 'indices': None, 'va...   \n",
       "4   {'type': 1, 'size': None, 'indices': None, 'va...   \n",
       "5   {'type': 1, 'size': None, 'indices': None, 'va...   \n",
       "6   {'type': 1, 'size': None, 'indices': None, 'va...   \n",
       "7   {'type': 1, 'size': None, 'indices': None, 'va...   \n",
       "8   {'type': 1, 'size': None, 'indices': None, 'va...   \n",
       "9   {'type': 1, 'size': None, 'indices': None, 'va...   \n",
       "10  {'type': 1, 'size': None, 'indices': None, 'va...   \n",
       "11  {'type': 1, 'size': None, 'indices': None, 'va...   \n",
       "12  {'type': 1, 'size': None, 'indices': None, 'va...   \n",
       "13  {'type': 1, 'size': None, 'indices': None, 'va...   \n",
       "14  {'type': 1, 'size': None, 'indices': None, 'va...   \n",
       "15  {'type': 1, 'size': None, 'indices': None, 'va...   \n",
       "16  {'type': 1, 'size': None, 'indices': None, 'va...   \n",
       "17  {'type': 1, 'size': None, 'indices': None, 'va...   \n",
       "18  {'type': 1, 'size': None, 'indices': None, 'va...   \n",
       "19  {'type': 1, 'size': None, 'indices': None, 'va...   \n",
       "\n",
       "                                         pca_features  \n",
       "0   {'type': 1, 'size': None, 'indices': None, 'va...  \n",
       "1   {'type': 1, 'size': None, 'indices': None, 'va...  \n",
       "2   {'type': 1, 'size': None, 'indices': None, 'va...  \n",
       "3   {'type': 1, 'size': None, 'indices': None, 'va...  \n",
       "4   {'type': 1, 'size': None, 'indices': None, 'va...  \n",
       "5   {'type': 1, 'size': None, 'indices': None, 'va...  \n",
       "6   {'type': 1, 'size': None, 'indices': None, 'va...  \n",
       "7   {'type': 1, 'size': None, 'indices': None, 'va...  \n",
       "8   {'type': 1, 'size': None, 'indices': None, 'va...  \n",
       "9   {'type': 1, 'size': None, 'indices': None, 'va...  \n",
       "10  {'type': 1, 'size': None, 'indices': None, 'va...  \n",
       "11  {'type': 1, 'size': None, 'indices': None, 'va...  \n",
       "12  {'type': 1, 'size': None, 'indices': None, 'va...  \n",
       "13  {'type': 1, 'size': None, 'indices': None, 'va...  \n",
       "14  {'type': 1, 'size': None, 'indices': None, 'va...  \n",
       "15  {'type': 1, 'size': None, 'indices': None, 'va...  \n",
       "16  {'type': 1, 'size': None, 'indices': None, 'va...  \n",
       "17  {'type': 1, 'size': None, 'indices': None, 'va...  \n",
       "18  {'type': 1, 'size': None, 'indices': None, 'va...  \n",
       "19  {'type': 1, 'size': None, 'indices': None, 'va...  "
      ]
     },
     "execution_count": 54,
     "metadata": {},
     "output_type": "execute_result"
    }
   ],
   "source": [
    "df.head(20)"
   ]
  },
  {
   "cell_type": "code",
   "execution_count": 55,
   "metadata": {},
   "outputs": [
    {
     "data": {
      "text/plain": [
       "path            object\n",
       "label           object\n",
       "features        object\n",
       "pca_features    object\n",
       "dtype: object"
      ]
     },
     "execution_count": 55,
     "metadata": {},
     "output_type": "execute_result"
    }
   ],
   "source": [
    "df.dtypes"
   ]
  },
  {
   "cell_type": "code",
   "execution_count": 56,
   "metadata": {},
   "outputs": [
    {
     "data": {
      "text/plain": [
       "{'type': 1,\n",
       " 'size': None,\n",
       " 'indices': None,\n",
       " 'values': array([1.31945956, 0.27603984, 0.        , ..., 0.60496193, 0.        ,\n",
       "        0.        ])}"
      ]
     },
     "execution_count": 56,
     "metadata": {},
     "output_type": "execute_result"
    }
   ],
   "source": [
    "df.loc[0,'features']"
   ]
  },
  {
   "cell_type": "code",
   "execution_count": 57,
   "metadata": {},
   "outputs": [],
   "source": [
    "from pyspark.sql.functions import udf\n",
    "def array_to_vector(array):\n",
    "    return Vectors.dense(array)\n",
    "\n",
    "array_to_vector_udf = udf(array_to_vector, VectorUDT())\n",
    "\n",
    "features_df_transformed = features_df.withColumn(\"features\", array_to_vector_udf(features_df[\"features\"]))\n"
   ]
  },
  {
   "cell_type": "code",
   "execution_count": 58,
   "metadata": {},
   "outputs": [
    {
     "name": "stderr",
     "output_type": "stream",
     "text": [
      "                                                                                \r"
     ]
    }
   ],
   "source": [
    "# Set the number of principal components you want, e.g., 50\n",
    "num_components = 50\n",
    "\n",
    "pca = PCA(k=num_components, inputCol=\"features\", outputCol=\"pca_features\")\n",
    "pca_model = pca.fit(features_df_transformed)\n",
    "df_pca = pca_model.transform(features_df_transformed)"
   ]
  },
  {
   "cell_type": "code",
   "execution_count": 59,
   "metadata": {},
   "outputs": [
    {
     "name": "stdout",
     "output_type": "stream",
     "text": [
      "+--------------------+--------------+--------------------+--------------------+\n",
      "|                path|         label|            features|        pca_features|\n",
      "+--------------------+--------------+--------------------+--------------------+\n",
      "|file:/home/nox/Op...|Apple Braeburn|[0.80588412284851...|[-8.4536423602631...|\n",
      "|file:/home/nox/Op...|Apple Braeburn|[0.87095409631729...|[-6.9772924263674...|\n",
      "|file:/home/nox/Op...|Apple Braeburn|[0.67813092470169...|[-7.9456001513673...|\n",
      "|file:/home/nox/Op...|Apple Braeburn|[0.91799819469451...|[-8.7203823230851...|\n",
      "|file:/home/nox/Op...|    Clementine|[1.72573387622833...|[-0.7750212816482...|\n",
      "|file:/home/nox/Op...|    Clementine|[0.13881731033325...|[3.03507497863312...|\n",
      "|file:/home/nox/Op...|    Clementine|[1.33992254734039...|[-1.1517348866723...|\n",
      "|file:/home/nox/Op...|    Clementine|[0.27237147092819...|[2.18096316602275...|\n",
      "|file:/home/nox/Op...|Apple Braeburn|[0.75762093067169...|[-8.6475609154594...|\n",
      "|file:/home/nox/Op...|Apple Braeburn|[0.69678986072540...|[-9.2295523079849...|\n",
      "|file:/home/nox/Op...|Apple Braeburn|[0.94803029298782...|[-8.8664857507128...|\n",
      "|file:/home/nox/Op...|    Clementine|[0.49615073204040...|[3.18284397252776...|\n",
      "|file:/home/nox/Op...|    Clementine|[0.10167753696441...|[7.40275314525033...|\n",
      "|file:/home/nox/Op...|    Clementine|[0.42722642421722...|[8.3735267156075,...|\n",
      "|file:/home/nox/Op...|    Clementine|[0.06714249402284...|[8.94671819770692...|\n",
      "|file:/home/nox/Op...|    Clementine|[0.04090542718768...|[6.49897585617397...|\n",
      "|file:/home/nox/Op...|Apple Braeburn|[0.83778077363967...|[-7.0932688267204...|\n",
      "|file:/home/nox/Op...|Apple Braeburn|[0.33296227455139...|[-8.3060308835137...|\n",
      "|file:/home/nox/Op...|Apple Braeburn|[0.53728860616683...|[-8.4995321637213...|\n",
      "|file:/home/nox/Op...|Apple Braeburn|[0.64750045537948...|[-8.3256405568077...|\n",
      "+--------------------+--------------+--------------------+--------------------+\n",
      "only showing top 20 rows\n",
      "\n"
     ]
    }
   ],
   "source": [
    "df_pca.show()\n"
   ]
  },
  {
   "cell_type": "code",
   "execution_count": 60,
   "metadata": {},
   "outputs": [
    {
     "name": "stderr",
     "output_type": "stream",
     "text": [
      "                                                                                \r"
     ]
    }
   ],
   "source": [
    "df_pca.write.mode(\"overwrite\").parquet(PATH_Result_PCA)"
   ]
  },
  {
   "cell_type": "code",
   "execution_count": 61,
   "metadata": {},
   "outputs": [
    {
     "data": {
      "text/html": [
       "<div>\n",
       "<style scoped>\n",
       "    .dataframe tbody tr th:only-of-type {\n",
       "        vertical-align: middle;\n",
       "    }\n",
       "\n",
       "    .dataframe tbody tr th {\n",
       "        vertical-align: top;\n",
       "    }\n",
       "\n",
       "    .dataframe thead th {\n",
       "        text-align: right;\n",
       "    }\n",
       "</style>\n",
       "<table border=\"1\" class=\"dataframe\">\n",
       "  <thead>\n",
       "    <tr style=\"text-align: right;\">\n",
       "      <th></th>\n",
       "      <th>path</th>\n",
       "      <th>label</th>\n",
       "      <th>features</th>\n",
       "      <th>pca_features</th>\n",
       "    </tr>\n",
       "  </thead>\n",
       "  <tbody>\n",
       "    <tr>\n",
       "      <th>0</th>\n",
       "      <td>file:/home/nox/OpenClassroom/P9/Test1/Apple Br...</td>\n",
       "      <td>Apple Braeburn</td>\n",
       "      <td>[0.8058841228485107, 0.07883615046739578, 0.0,...</td>\n",
       "      <td>[-8.453642360263169, -0.8938787056680216, -0.3...</td>\n",
       "    </tr>\n",
       "  </tbody>\n",
       "</table>\n",
       "</div>"
      ],
      "text/plain": [
       "                                                path           label  \\\n",
       "0  file:/home/nox/OpenClassroom/P9/Test1/Apple Br...  Apple Braeburn   \n",
       "\n",
       "                                            features  \\\n",
       "0  [0.8058841228485107, 0.07883615046739578, 0.0,...   \n",
       "\n",
       "                                        pca_features  \n",
       "0  [-8.453642360263169, -0.8938787056680216, -0.3...  "
      ]
     },
     "metadata": {},
     "output_type": "display_data"
    }
   ],
   "source": [
    "first_row_pca = df_pca.limit(1).toPandas()\n",
    "\n",
    "display(first_row_pca)"
   ]
  },
  {
   "cell_type": "code",
   "execution_count": 62,
   "metadata": {},
   "outputs": [
    {
     "name": "stdout",
     "output_type": "stream",
     "text": [
      "Length of 'features' vector: 1280\n",
      "Length of 'pca_features' vector: 50\n"
     ]
    }
   ],
   "source": [
    "features_length = len(first_row_pca['features'][0])\n",
    "pca_features_length = len(first_row_pca['pca_features'][0])\n",
    "\n",
    "print(f\"Length of 'features' vector: {features_length}\")\n",
    "print(f\"Length of 'pca_features' vector: {pca_features_length}\")\n"
   ]
  },
  {
   "cell_type": "code",
   "execution_count": 63,
   "metadata": {},
   "outputs": [
    {
     "name": "stdout",
     "output_type": "stream",
     "text": [
      "Cumulative variance explained by the first 50 components: 0.5933\n"
     ]
    }
   ],
   "source": [
    "explained_variances = pca_model.explainedVariance\n",
    "cumulative_variance = explained_variances.toArray().cumsum()\n",
    "print(f\"Cumulative variance explained by the first 50 components: {cumulative_variance[49]:.4f}\")\n"
   ]
  },
  {
   "cell_type": "code",
   "execution_count": 65,
   "metadata": {},
   "outputs": [],
   "source": [
    "#spark.stop()"
   ]
  }
 ],
 "metadata": {
  "kernelspec": {
   "display_name": "P9",
   "language": "python",
   "name": "python3"
  },
  "language_info": {
   "codemirror_mode": {
    "name": "ipython",
    "version": 3
   },
   "file_extension": ".py",
   "mimetype": "text/x-python",
   "name": "python",
   "nbconvert_exporter": "python",
   "pygments_lexer": "ipython3",
   "version": "3.10.10"
  },
  "orig_nbformat": 4
 },
 "nbformat": 4,
 "nbformat_minor": 2
}
